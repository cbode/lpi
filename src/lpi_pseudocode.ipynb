{
 "cells": [
  {
   "cell_type": "markdown",
   "metadata": {},
   "source": [
    "## LPI Pseudo Code\n",
    "authors: Collin Bode, David Dralle   \n",
    "email: collin@berkeley.edu   \n",
    "date: 2020-06-17   \n",
    "purpose:  to describe the algorithm used in the original SSR version of LPI.   \n",
    "This ignores any GRASS GIS specific code and naming conventions.    \n"
   ]
  },
  {
   "cell_type": "markdown",
   "metadata": {},
   "source": [
    "#### Import LiDAR files into raster with point count as value"
   ]
  },
  {
   "cell_type": "markdown",
   "metadata": {},
   "source": [
    "- define target cell size: 2 m default\n",
    "- For each tile convert to raster of same tilesize:\n",
    "- raster 1: count number of ground points\n",
    "- raster 2: count all points\n",
    "- Mosaic all tiles together into two rasters"
   ]
  },
  {
   "cell_type": "markdown",
   "metadata": {},
   "source": [
    "#### Define the size and position of the aggregation window"
   ]
  },
  {
   "cell_type": "markdown",
   "metadata": {},
   "source": [
    "- cell size? 2 m default\n",
    "- radius of effect based on model vegetation height? 22 m default\n",
    "- box size in cells:  18 x 18 cells\n",
    "- is the box symmetric? or does it shift with the seasons?  4 boxes defined to describe all 12 months. June used if no shift."
   ]
  },
  {
   "cell_type": "markdown",
   "metadata": {},
   "source": [
    "#### Neighborhood operation to sum points\n",
    " - LPI is calculated by running a neighborhood analysis on grids which contain a count of lidar points (ground filtered and raw - all points)   \n",
    " - The neighborhood analysis uses a bounding box defined by month (4 possible boxes) and sums all the lidar points within range.      \n",
    " - LPI = Ground Filtered sum of LiDAR points / Raw All summed Points.  Result is a dimensionless ratio of Canopy Gap or Openness. Collin tried several different equations, but in the end mostly just used the ratio.  Below are two.   "
   ]
  },
  {
   "cell_type": "code",
   "execution_count": null,
   "metadata": {
    "collapsed": true,
    "jupyter": {
     "outputs_hidden": true
    }
   },
   "outputs": [],
   "source": [
    "if(year == 'ym4'):\n",
    "        str_formula = \"3.71 * ( A / B )^1.3455\"\n",
    "elif(year == 'yr4'):\n",
    "        str_formula = \"6.5 * ( A / B )^1.57 + 0.005\"                                \n",
    "else:\n",
    "        str_formula = \"A / B\"\n",
    "grass.run_command(\"r.mapcalculator\", overwrite = ow, amap = pneighfilt, bmap = pneighunf, formula = str_formula, outfile = lpi)\t"
   ]
  },
  {
   "cell_type": "markdown",
   "metadata": {},
   "source": [
    " - Ratios occasionally exceed 1.0 (100%), so additional cleaning step included to set those to 100%.   "
   ]
  },
  {
   "cell_type": "code",
   "execution_count": null,
   "metadata": {
    "collapsed": true,
    "jupyter": {
     "outputs_hidden": true
    }
   },
   "outputs": [],
   "source": [
    "str_formula = \"if( A > 1.0, 1.0, A)\"\n",
    "grass.run_command(\"r.mapcalculator\", overwrite = ow, amap =  lpi, formula = str_formula, outfile = lpi)\t"
   ]
  },
  {
   "cell_type": "markdown",
   "metadata": {},
   "source": [
    "#### Export LPI as raster"
   ]
  }
 ],
 "metadata": {
  "kernelspec": {
   "display_name": "Python 3",
   "language": "python",
   "name": "python3"
  },
  "language_info": {
   "codemirror_mode": {
    "name": "ipython",
    "version": 3
   },
   "file_extension": ".py",
   "mimetype": "text/x-python",
   "name": "python",
   "nbconvert_exporter": "python",
   "pygments_lexer": "ipython3",
   "version": "3.6.7"
  }
 },
 "nbformat": 4,
 "nbformat_minor": 4
}
